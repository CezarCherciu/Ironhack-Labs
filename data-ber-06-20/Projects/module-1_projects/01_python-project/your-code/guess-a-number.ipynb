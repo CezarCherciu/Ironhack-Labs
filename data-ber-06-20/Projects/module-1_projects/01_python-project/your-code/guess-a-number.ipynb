{
 "cells": [
  {
   "cell_type": "code",
   "execution_count": 1,
   "metadata": {},
   "outputs": [
    {
     "name": "stdout",
     "output_type": "stream",
     "text": [
      "Please enter your name: cezar\n",
      "Welcome to my Number game, cezar\n",
      "\n",
      "The computer has randomly selected a number between 1 to 1000...\n",
      "\n",
      "You have 10 chances to guess that number...\n",
      "Enter your guess: 500\n",
      "\n",
      "cezar, the computer number is less than your guessed number\n",
      "you have 9 guesses remaining\n",
      "Enter your guess: 250\n",
      "\n",
      "cezar, the computer number is less than your guessed number\n",
      "you have 8 guesses remaining\n",
      "Enter your guess: 125\n",
      "\n",
      "cezar, the computer number is greater than your guessed number\n",
      "you have 7 guesses remaining\n",
      "Enter your guess: 275\n",
      "\n",
      "cezar, the computer number is less than your guessed number\n",
      "you have 6 guesses remaining\n",
      "Enter your guess: 225\n",
      "\n",
      "cezar, the computer number is less than your guessed number\n",
      "you have 5 guesses remaining\n",
      "Enter your guess: 200\n",
      "\n",
      "cezar, the computer number is greater than your guessed number\n",
      "you have 4 guesses remaining\n",
      "Enter your guess: 212\n",
      "\n",
      "Congrats, cezar!! You have guessed the correct number!\n",
      "Do you wish to play another game?(y/n): n\n",
      "\n",
      "Great effort! Thank you for playing, cezar!\n"
     ]
    }
   ],
   "source": [
    "from random import randint  #in order to generate a random number\n",
    "player_name = input(\"Please enter your name: \")\n",
    "print(\"Welcome to my Number game, \" + player_name)\n",
    "def game():\n",
    "    rand_number = randint(0,1000)   #Generates a random number\n",
    "    print(\"\\nThe computer has randomly selected a number between 1 to 1000...\")\n",
    "    print(\"\\nYou have 10 chances to guess that number...\")\n",
    "    i = 1\n",
    "    r = 1\n",
    "    while i<11:  # 10 Chances to the user\n",
    "        user_guess = int(input('Enter your guess: ')) \n",
    "        if user_guess < rand_number:\n",
    "            print(\"\\n\" + player_name + \", the computer number is greater than your guessed number\")\n",
    "            print(\"you have \" + str(10-i)+ \" guesses remaining\" )\n",
    "            i = i+1\n",
    "        elif user_guess > rand_number:\n",
    "            print(\"\\n\" + player_name + \", the computer number is less than your guessed number\")\n",
    "            print(\"you have \" + str(10-i)+ \" guesses remaining\" )\n",
    "            i = i+1\n",
    "        elif user_guess == rand_number:\n",
    "            print(\"\\nCongrats, \"+ player_name +\"!! You have guessed the correct number!\")\n",
    "            r = 0;\n",
    "            break\n",
    "        else:\n",
    "            print(\"This is an invalid number. Please try again\")\n",
    "            print(\"you have \" + str(10-i)+ \" guesses remaining\" )\n",
    "            continue\n",
    "    if r==1:\n",
    "        print(\"You ran out of guesses. You lose!\")\n",
    "        print(\"The computer number was = \" + str(rand_number))\n",
    "\n",
    "def main():\n",
    "    game()\n",
    "    while True:\n",
    "        rematch = input(\"Do you wish to play another game?(y/n): \")\n",
    "        if rematch == \"y\":\n",
    "            game()\n",
    "        else:\n",
    "            break\n",
    "main()\n",
    "print(\"\\nGreat effort! Thank you for playing, \" + player_name + \"!\")"
   ]
  },
  {
   "cell_type": "code",
   "execution_count": null,
   "metadata": {},
   "outputs": [],
   "source": []
  },
  {
   "cell_type": "code",
   "execution_count": null,
   "metadata": {},
   "outputs": [],
   "source": []
  }
 ],
 "metadata": {
  "kernelspec": {
   "display_name": "Python 3",
   "language": "python",
   "name": "python3"
  },
  "language_info": {
   "codemirror_mode": {
    "name": "ipython",
    "version": 3
   },
   "file_extension": ".py",
   "mimetype": "text/x-python",
   "name": "python",
   "nbconvert_exporter": "python",
   "pygments_lexer": "ipython3",
   "version": "3.7.6"
  }
 },
 "nbformat": 4,
 "nbformat_minor": 2
}
